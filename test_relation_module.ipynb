{
 "metadata": {
  "language_info": {
   "codemirror_mode": {
    "name": "ipython",
    "version": 3
   },
   "file_extension": ".py",
   "mimetype": "text/x-python",
   "name": "python",
   "nbconvert_exporter": "python",
   "pygments_lexer": "ipython3",
   "version": "3.6.13"
  },
  "orig_nbformat": 2,
  "kernelspec": {
   "name": "python3613jvsc74a57bd0a3ccf92fb80523d689f620b20038911337bf07c2e33e909a64fa5d08f43d8176",
   "display_name": "Python 3.6.13 64-bit ('rfdnet': conda)"
  },
  "metadata": {
   "interpreter": {
    "hash": "a3ccf92fb80523d689f620b20038911337bf07c2e33e909a64fa5d08f43d8176"
   }
  }
 },
 "nbformat": 4,
 "nbformat_minor": 2,
 "cells": [
  {
   "cell_type": "code",
   "execution_count": null,
   "metadata": {},
   "outputs": [],
   "source": [
    "from configs.config_utils import CONFIG\n",
    "from configs.config_utils import mount_external_config\n",
    "from net_utils.utils import load_device, load_model, load_trainer, load_dataloader\n",
    "import torch\n",
    "cfg = CONFIG('configs/config_files/ISCNet_detection.yaml')\n",
    "cfg.update_config({'mode': 'train'})\n",
    "cfg = mount_external_config(cfg)\n",
    "train_loader = load_dataloader(cfg, mode='train')\n",
    "data = iter(train_loader).next()\n",
    "for label, tensor in data.items(): \n",
    "    print('{}: shape {}'.format(label, tensor.shape))"
   ]
  },
  {
   "cell_type": "code",
   "execution_count": null,
   "metadata": {},
   "outputs": [],
   "source": [
    "device = torch.device(\"cuda\")"
   ]
  },
  {
   "cell_type": "code",
   "execution_count": null,
   "metadata": {},
   "outputs": [],
   "source": [
    "from net_utils.utils import load_model\n",
    "net = load_model(cfg, device=device)\n",
    "net.train(mode = True)"
   ]
  },
  {
   "cell_type": "code",
   "execution_count": null,
   "metadata": {},
   "outputs": [],
   "source": [
    "from torchinfo import summary"
   ]
  },
  {
   "cell_type": "code",
   "execution_count": null,
   "metadata": {},
   "outputs": [],
   "source": [
    "summary(net, input_data = data)"
   ]
  },
  {
   "cell_type": "code",
   "execution_count": null,
   "metadata": {},
   "outputs": [],
   "source": [
    "out = net(data)"
   ]
  },
  {
   "cell_type": "code",
   "execution_count": null,
   "metadata": {},
   "outputs": [],
   "source": [
    "out"
   ]
  }
 ]
}